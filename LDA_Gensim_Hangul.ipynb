{
  "nbformat": 4,
  "nbformat_minor": 0,
  "metadata": {
    "colab": {
      "provenance": [],
      "authorship_tag": "ABX9TyNDJdHQsh2cs5rkg6tOoO2t",
      "include_colab_link": true
    },
    "kernelspec": {
      "name": "python3",
      "display_name": "Python 3"
    },
    "language_info": {
      "name": "python"
    }
  },
  "cells": [
    {
      "cell_type": "markdown",
      "metadata": {
        "id": "view-in-github",
        "colab_type": "text"
      },
      "source": [
        "<a href=\"https://colab.research.google.com/github/itaewonflow/lecture-textmining-ml/blob/main/LDA_Gensim_Hangul.ipynb\" target=\"_parent\"><img src=\"https://colab.research.google.com/assets/colab-badge.svg\" alt=\"Open In Colab\"/></a>"
      ]
    },
    {
      "cell_type": "markdown",
      "source": [
        "- Itaewon flow github : https://github.com/itaewonflow\n",
        "- Source Link : https://colab.research.google.com/github/itaewonflow/lecture-textmining-ml/blob/main/LDA_Gensim_Hangul.ipynb\n",
        "- Explain Link : https://decadepivot.com/lda-gensim-%ED%95%9C%EA%B8%80-%ED%86%A0%ED%94%BD%EB%AA%A8%EB%8D%B8%EB%A7%81-%EC%BD%94%EB%93%9C-%EC%84%A4%EB%AA%85/\n",
        "---"
      ],
      "metadata": {
        "id": "4zSnHpvHETlT"
      }
    },
    {
      "cell_type": "markdown",
      "source": [
        "#1.Data Loding"
      ],
      "metadata": {
        "id": "vb9J7Q1rxY9q"
      }
    },
    {
      "cell_type": "markdown",
      "source": [
        "##1-1.Colab업로드 엑셀에서 읽어오기"
      ],
      "metadata": {
        "id": "3_ePjwxC4Et4"
      }
    },
    {
      "cell_type": "code",
      "source": [
        "!pip install openpyxl\n",
        "\n",
        "from openpyxl import load_workbook\n",
        "\n",
        "github_excel_url = './data_for_topic (1).xlsx'\n",
        "\n",
        "wb = load_workbook(github_excel_url)\n",
        "sheet = wb.active\n",
        "\n",
        "column_sentence = []\n",
        "titles = [cell.value for cell in sheet[1]]\n",
        "\n",
        "for row in sheet.iter_rows(min_row=2, values_only=True):\n",
        "    row_dict = list(row)\n",
        "    column_sentence.append(row_dict)"
      ],
      "metadata": {
        "id": "WRo5seL25Un8",
        "colab": {
          "base_uri": "https://localhost:8080/",
          "height": 445
        },
        "outputId": "d596b353-9292-4fea-ebd0-3f09adbe0f6b"
      },
      "execution_count": 2,
      "outputs": [
        {
          "output_type": "stream",
          "name": "stdout",
          "text": [
            "Requirement already satisfied: openpyxl in /usr/local/lib/python3.10/dist-packages (3.1.2)\n",
            "Requirement already satisfied: et-xmlfile in /usr/local/lib/python3.10/dist-packages (from openpyxl) (1.1.0)\n"
          ]
        },
        {
          "output_type": "error",
          "ename": "FileNotFoundError",
          "evalue": "ignored",
          "traceback": [
            "\u001b[0;31m---------------------------------------------------------------------------\u001b[0m",
            "\u001b[0;31mFileNotFoundError\u001b[0m                         Traceback (most recent call last)",
            "\u001b[0;32m<ipython-input-2-bbdbb31d8010>\u001b[0m in \u001b[0;36m<cell line: 7>\u001b[0;34m()\u001b[0m\n\u001b[1;32m      5\u001b[0m \u001b[0mgithub_excel_url\u001b[0m \u001b[0;34m=\u001b[0m \u001b[0;34m'./data_for_topic (1).xlsx'\u001b[0m\u001b[0;34m\u001b[0m\u001b[0;34m\u001b[0m\u001b[0m\n\u001b[1;32m      6\u001b[0m \u001b[0;34m\u001b[0m\u001b[0m\n\u001b[0;32m----> 7\u001b[0;31m \u001b[0mwb\u001b[0m \u001b[0;34m=\u001b[0m \u001b[0mload_workbook\u001b[0m\u001b[0;34m(\u001b[0m\u001b[0mgithub_excel_url\u001b[0m\u001b[0;34m)\u001b[0m\u001b[0;34m\u001b[0m\u001b[0;34m\u001b[0m\u001b[0m\n\u001b[0m\u001b[1;32m      8\u001b[0m \u001b[0msheet\u001b[0m \u001b[0;34m=\u001b[0m \u001b[0mwb\u001b[0m\u001b[0;34m.\u001b[0m\u001b[0mactive\u001b[0m\u001b[0;34m\u001b[0m\u001b[0;34m\u001b[0m\u001b[0m\n\u001b[1;32m      9\u001b[0m \u001b[0;34m\u001b[0m\u001b[0m\n",
            "\u001b[0;32m/usr/local/lib/python3.10/dist-packages/openpyxl/reader/excel.py\u001b[0m in \u001b[0;36mload_workbook\u001b[0;34m(filename, read_only, keep_vba, data_only, keep_links, rich_text)\u001b[0m\n\u001b[1;32m    342\u001b[0m \u001b[0;34m\u001b[0m\u001b[0m\n\u001b[1;32m    343\u001b[0m     \"\"\"\n\u001b[0;32m--> 344\u001b[0;31m     reader = ExcelReader(filename, read_only, keep_vba,\n\u001b[0m\u001b[1;32m    345\u001b[0m                          data_only, keep_links, rich_text)\n\u001b[1;32m    346\u001b[0m     \u001b[0mreader\u001b[0m\u001b[0;34m.\u001b[0m\u001b[0mread\u001b[0m\u001b[0;34m(\u001b[0m\u001b[0;34m)\u001b[0m\u001b[0;34m\u001b[0m\u001b[0;34m\u001b[0m\u001b[0m\n",
            "\u001b[0;32m/usr/local/lib/python3.10/dist-packages/openpyxl/reader/excel.py\u001b[0m in \u001b[0;36m__init__\u001b[0;34m(self, fn, read_only, keep_vba, data_only, keep_links, rich_text)\u001b[0m\n\u001b[1;32m    121\u001b[0m     def __init__(self, fn, read_only=False, keep_vba=KEEP_VBA,\n\u001b[1;32m    122\u001b[0m                  data_only=False, keep_links=True, rich_text=False):\n\u001b[0;32m--> 123\u001b[0;31m         \u001b[0mself\u001b[0m\u001b[0;34m.\u001b[0m\u001b[0marchive\u001b[0m \u001b[0;34m=\u001b[0m \u001b[0m_validate_archive\u001b[0m\u001b[0;34m(\u001b[0m\u001b[0mfn\u001b[0m\u001b[0;34m)\u001b[0m\u001b[0;34m\u001b[0m\u001b[0;34m\u001b[0m\u001b[0m\n\u001b[0m\u001b[1;32m    124\u001b[0m         \u001b[0mself\u001b[0m\u001b[0;34m.\u001b[0m\u001b[0mvalid_files\u001b[0m \u001b[0;34m=\u001b[0m \u001b[0mself\u001b[0m\u001b[0;34m.\u001b[0m\u001b[0marchive\u001b[0m\u001b[0;34m.\u001b[0m\u001b[0mnamelist\u001b[0m\u001b[0;34m(\u001b[0m\u001b[0;34m)\u001b[0m\u001b[0;34m\u001b[0m\u001b[0;34m\u001b[0m\u001b[0m\n\u001b[1;32m    125\u001b[0m         \u001b[0mself\u001b[0m\u001b[0;34m.\u001b[0m\u001b[0mread_only\u001b[0m \u001b[0;34m=\u001b[0m \u001b[0mread_only\u001b[0m\u001b[0;34m\u001b[0m\u001b[0;34m\u001b[0m\u001b[0m\n",
            "\u001b[0;32m/usr/local/lib/python3.10/dist-packages/openpyxl/reader/excel.py\u001b[0m in \u001b[0;36m_validate_archive\u001b[0;34m(filename)\u001b[0m\n\u001b[1;32m     93\u001b[0m             \u001b[0;32mraise\u001b[0m \u001b[0mInvalidFileException\u001b[0m\u001b[0;34m(\u001b[0m\u001b[0mmsg\u001b[0m\u001b[0;34m)\u001b[0m\u001b[0;34m\u001b[0m\u001b[0;34m\u001b[0m\u001b[0m\n\u001b[1;32m     94\u001b[0m \u001b[0;34m\u001b[0m\u001b[0m\n\u001b[0;32m---> 95\u001b[0;31m     \u001b[0marchive\u001b[0m \u001b[0;34m=\u001b[0m \u001b[0mZipFile\u001b[0m\u001b[0;34m(\u001b[0m\u001b[0mfilename\u001b[0m\u001b[0;34m,\u001b[0m \u001b[0;34m'r'\u001b[0m\u001b[0;34m)\u001b[0m\u001b[0;34m\u001b[0m\u001b[0;34m\u001b[0m\u001b[0m\n\u001b[0m\u001b[1;32m     96\u001b[0m     \u001b[0;32mreturn\u001b[0m \u001b[0marchive\u001b[0m\u001b[0;34m\u001b[0m\u001b[0;34m\u001b[0m\u001b[0m\n\u001b[1;32m     97\u001b[0m \u001b[0;34m\u001b[0m\u001b[0m\n",
            "\u001b[0;32m/usr/lib/python3.10/zipfile.py\u001b[0m in \u001b[0;36m__init__\u001b[0;34m(self, file, mode, compression, allowZip64, compresslevel, strict_timestamps)\u001b[0m\n\u001b[1;32m   1249\u001b[0m             \u001b[0;32mwhile\u001b[0m \u001b[0;32mTrue\u001b[0m\u001b[0;34m:\u001b[0m\u001b[0;34m\u001b[0m\u001b[0;34m\u001b[0m\u001b[0m\n\u001b[1;32m   1250\u001b[0m                 \u001b[0;32mtry\u001b[0m\u001b[0;34m:\u001b[0m\u001b[0;34m\u001b[0m\u001b[0;34m\u001b[0m\u001b[0m\n\u001b[0;32m-> 1251\u001b[0;31m                     \u001b[0mself\u001b[0m\u001b[0;34m.\u001b[0m\u001b[0mfp\u001b[0m \u001b[0;34m=\u001b[0m \u001b[0mio\u001b[0m\u001b[0;34m.\u001b[0m\u001b[0mopen\u001b[0m\u001b[0;34m(\u001b[0m\u001b[0mfile\u001b[0m\u001b[0;34m,\u001b[0m \u001b[0mfilemode\u001b[0m\u001b[0;34m)\u001b[0m\u001b[0;34m\u001b[0m\u001b[0;34m\u001b[0m\u001b[0m\n\u001b[0m\u001b[1;32m   1252\u001b[0m                 \u001b[0;32mexcept\u001b[0m \u001b[0mOSError\u001b[0m\u001b[0;34m:\u001b[0m\u001b[0;34m\u001b[0m\u001b[0;34m\u001b[0m\u001b[0m\n\u001b[1;32m   1253\u001b[0m                     \u001b[0;32mif\u001b[0m \u001b[0mfilemode\u001b[0m \u001b[0;32min\u001b[0m \u001b[0mmodeDict\u001b[0m\u001b[0;34m:\u001b[0m\u001b[0;34m\u001b[0m\u001b[0;34m\u001b[0m\u001b[0m\n",
            "\u001b[0;31mFileNotFoundError\u001b[0m: [Errno 2] No such file or directory: './data_for_topic (1).xlsx'"
          ]
        }
      ]
    },
    {
      "cell_type": "markdown",
      "source": [
        "##1-2.Github에서 바로 불러오기"
      ],
      "metadata": {
        "id": "Coz5DCZ14NoU"
      }
    },
    {
      "cell_type": "code",
      "source": [
        "!pip install openpyxl\n",
        "\n",
        "import pandas as pd\n",
        "df = pd.read_excel('https://raw.githubusercontent.com/itaewonflow/data-mart/main/data_for_topic.xlsx', header=None)\n",
        "column_name = df.iloc[0]\n",
        "column_value = df.iloc[1:].to_dict(orient='records')\n",
        "\n",
        "column_sentence = []\n",
        "for key, value in enumerate(column_value):\n",
        "  result_list = list(column_value[key].values())\n",
        "  column_sentence.append(result_list)"
      ],
      "metadata": {
        "id": "vamXlBKq2Ux_",
        "colab": {
          "base_uri": "https://localhost:8080/"
        },
        "outputId": "709c2a2a-c13c-4762-bde2-4faa0a029dca"
      },
      "execution_count": 3,
      "outputs": [
        {
          "output_type": "stream",
          "name": "stdout",
          "text": [
            "Requirement already satisfied: openpyxl in /usr/local/lib/python3.10/dist-packages (3.1.2)\n",
            "Requirement already satisfied: et-xmlfile in /usr/local/lib/python3.10/dist-packages (from openpyxl) (1.1.0)\n"
          ]
        }
      ]
    },
    {
      "cell_type": "code",
      "source": [
        "column_sentence[0]"
      ],
      "metadata": {
        "colab": {
          "base_uri": "https://localhost:8080/"
        },
        "id": "xjafhgJh8viJ",
        "outputId": "33fb2f11-0257-403d-83f4-5ccb57f7b1e5"
      },
      "execution_count": 4,
      "outputs": [
        {
          "output_type": "execute_result",
          "data": {
            "text/plain": [
              "['2017.01.01',\n",
              " '아직은 약해요 좀더 진행이 되야 누가봐도.\\n\\n원하시는것이 정신병이면 더 진행이 되어야하고..\\n\\n아니시면..\\n\\n그런느낌?? 그런게 잇는데..\\n\\n시간지나면 헤프닝이던데요..\\n\\n영화같은 에피소드요..\\n\\n애메 합니다.. 신경쓰이서도 기우 일꺼라 믿습니다']"
            ]
          },
          "metadata": {},
          "execution_count": 4
        }
      ]
    },
    {
      "cell_type": "code",
      "source": [
        "column_sentence[1]"
      ],
      "metadata": {
        "colab": {
          "base_uri": "https://localhost:8080/"
        },
        "id": "DhFS0-VU45Oq",
        "outputId": "15e57001-93f3-4aa9-d5a8-81a8a4c9b68a"
      },
      "execution_count": 5,
      "outputs": [
        {
          "output_type": "execute_result",
          "data": {
            "text/plain": [
              "['2017.01.02',\n",
              " '  네,\\n안녕하세요.\\n님의 말씀을 들어보니,\\n아내분의 우울증을 알고 싶거나, 아내 분이 우울증인지 궁금하시군요.\\n우울증은 슬픔, 눈물, 우울, 불안, 분노, 화, 짜증, 무기력,\\n의욕없음, 희망없음, 흥미없음, 식욕변화, 수면변화,\\n귀찮음, 피곤함, 신체적 아픔, 죽고 싶은 생각 등이 몇 주이상, 몇 개월이상씩\\n지속되는 심리장애입니다.\\n  특히 일, 학업, 인간관계, 등 삶의 전반에 부정적 영향을 끼칩니다.\\n심지어 살고 싶지 않다는 생각도 듭니다.\\n  그래서 우울증은 꼭 치료가 필요합니다.\\n 님의 말씀을 들어보니,\\n우울증이 확진이 가능한지 궁금하시네요.\\n일단 우울증은 심리장애로 심리검사와 면담, 그리고\\n여러 정화을 들어서 우울증인지 아닌지 병원에서 진단을 합니다.\\n 물론 아내 분에게 부정적 영향을 걱정하시는 것 같은데,\\n우울증은 치료가 되고, 스스로 꼬리표를 붙이지 않으시고,\\n남에게 말씀안하시면 됩니다.\\n 또한 오진의 가능성을 문의하셨는데,\\n물론 우울증이 갑상선 같은 그런 것일 가능성도,\\n조울증이 가능성도 있습니다.\\n 하지만 정신과샘이 이런것을 다 염두에 두고,\\n심리검사하시고, 또 다른 검사하시고, 면담하시고,\\n했다면 오진일 가능성이 많지 않습니다.\\n 그리고 우울증은 마음의 감기와 같아서 쉽게 나을수 있는\\n심리적 장애 입니다.\\n 또한 우울증진단이 된것은 삭제가 불 가능할것입니다.\\n그리고 우울증이 특별한 경우가 아니고, 누군가 무어라 해도\\n말씀안드리면 그만입니다.\\n 또한 우울증때문에 보험을 안들어준다고 하면\\n보험회사에 문의하시고, 말씀하시면 제가 알기로\\n보험회사도 보험을 들어주는데 우울증이 큰 문제가 되지ㅣ\\n않는 것으로 알고 있습니다.\\n 또한 님의 아내 분이 두통이었다가 우울증진단이 나온것이면\\n우울증이 신체적으로 간것이고 그 정도라면 오래되었을것입니다\\n만성화 된것으로 보셔도 됩니다.\\n 그리고 아내 분이 정신과에서 우울증꼬리 표가 걱정이시면\\n심리상담소를 찾아가셔서 우울증심리상담을 받으시면 됩니다.\\n 만성이라면 우울증약을 드시지 않으시고도\\n심리상담소에서 우울증심리상담만으로도 우울증치료를 받으실수 있습니다.\\n 아내분이 우울증이어서 좌절이 되시겠지만 용기를 가지시고\\n힘을 내세요.\\n저도 우울증심리상담을 전에 받았고, 저희 내담자 분들도\\n우울증심리상담을 많이 받으시고 있으시고,\\n또 많은 분들이 전국에서 우울증심리상담을 받으십니다.\\n 요즘은 우울증은 흠으로 사람들이 생각하지 않습니다.\\n그리고 우울증은 정신병도 아닙니다.\\n그냥 마음의 웰빙으로 생각하시면 됩니다.\\n 좀 마음이 힘들어서 심리적 도움을 받는구나\\n생각하시면 됩니다.\\n 님이 생각하시기에 아내 분이 우울증으로 힘들고,\\n혹은 스스로 견디기 힘들어 하는 것 같으면,\\n아내 분을 도울수 있는 심리상담소는 많으니,\\n아내 분이 심리상담을 받아야 겠다는 생각이 드시면,\\n각 심리상담소의 심리상담비나, 심리상담능력과 인지도 등도\\n블로그나 홈페이지 등에서 살펴보시고, 님과 가장 잘 맞을 것 같고,\\n마음에 드는 곳에서 우울증심리상담을 받아보시도록 권해주시길 바랍니다.\\n  그래서 님도 아내 분도 우울증의 어려움을 극복하시고, 멋지고, 행복하게 사실수 있으시길 바랍니다.\\n 질문에 도움이 되셨길 바라며,\\n도움이 되시면 기억도 부탁드립니다.\\n  그리고 질문으로 답변을 받으시는 것과,\\n심리 상담을 직접 받으시는 것과는 차이가 많이 크다는 것도\\n말씀드립니다.\\n  더 문의 사항이 있으시면 아래를 참고하셔도 됩니다.']"
            ]
          },
          "metadata": {},
          "execution_count": 5
        }
      ]
    },
    {
      "cell_type": "markdown",
      "source": [
        "##2.Text preprocessing process\n",
        "- 전처리는 OKT를 사용하여 명사형만을 사용하는 것으로 진행\n",
        "- OKT 실행 후 1글자는 제외 처리\n",
        "- CountVectorize를 사용하여 사용량이 적은 단어를 제외처리한다.\n",
        "- sentences_list 변수는 LDA에 활용하기 위함\n",
        "- sentences_list_word 변수는 Gensim에 활용하기 위함"
      ],
      "metadata": {
        "id": "U8NzewFcriKQ"
      }
    },
    {
      "cell_type": "code",
      "source": [
        "!pip install konlpy\n",
        "\n",
        "from konlpy.tag import Okt\n",
        "Okt = Okt()"
      ],
      "metadata": {
        "id": "nXlBPlyvq5MY",
        "colab": {
          "base_uri": "https://localhost:8080/"
        },
        "outputId": "ab680ad1-5c92-4f43-e64c-f89ef1ca8df5"
      },
      "execution_count": 7,
      "outputs": [
        {
          "output_type": "stream",
          "name": "stdout",
          "text": [
            "Collecting konlpy\n",
            "  Downloading konlpy-0.6.0-py2.py3-none-any.whl (19.4 MB)\n",
            "\u001b[2K     \u001b[90m━━━━━━━━━━━━━━━━━━━━━━━━━━━━━━━━━━━━━━━━\u001b[0m \u001b[32m19.4/19.4 MB\u001b[0m \u001b[31m27.2 MB/s\u001b[0m eta \u001b[36m0:00:00\u001b[0m\n",
            "\u001b[?25hCollecting JPype1>=0.7.0 (from konlpy)\n",
            "  Downloading JPype1-1.4.1-cp310-cp310-manylinux_2_12_x86_64.manylinux2010_x86_64.whl (465 kB)\n",
            "\u001b[2K     \u001b[90m━━━━━━━━━━━━━━━━━━━━━━━━━━━━━━━━━━━━━━━━\u001b[0m \u001b[32m465.3/465.3 kB\u001b[0m \u001b[31m43.0 MB/s\u001b[0m eta \u001b[36m0:00:00\u001b[0m\n",
            "\u001b[?25hRequirement already satisfied: lxml>=4.1.0 in /usr/local/lib/python3.10/dist-packages (from konlpy) (4.9.3)\n",
            "Requirement already satisfied: numpy>=1.6 in /usr/local/lib/python3.10/dist-packages (from konlpy) (1.23.5)\n",
            "Requirement already satisfied: packaging in /usr/local/lib/python3.10/dist-packages (from JPype1>=0.7.0->konlpy) (23.2)\n",
            "Installing collected packages: JPype1, konlpy\n",
            "Successfully installed JPype1-1.4.1 konlpy-0.6.0\n"
          ]
        }
      ]
    },
    {
      "cell_type": "code",
      "source": [
        "sentences_list = []\n",
        "sentences_list_word = []\n",
        "for key, value in enumerate(column_sentence):\n",
        "    temp_noun = Okt.nouns(value[1])\n",
        "    temp_noun = [token for token in temp_noun if len(token) > 1]\n",
        "\n",
        "    sentences_list.append(\" \".join(temp_noun))\n",
        "    sentences_list_word.append(temp_noun)"
      ],
      "metadata": {
        "id": "CLwb6QmDpuXU"
      },
      "execution_count": 8,
      "outputs": []
    },
    {
      "cell_type": "code",
      "source": [
        "sentences_list[1]"
      ],
      "metadata": {
        "colab": {
          "base_uri": "https://localhost:8080/",
          "height": 145
        },
        "id": "sjHhCNPXuk-T",
        "outputId": "6584e19b-7d11-4582-ce9b-0b550dc05c44"
      },
      "execution_count": 9,
      "outputs": [
        {
          "output_type": "execute_result",
          "data": {
            "text/plain": [
              "'말씀 아내 우울증 아내 우울증 우울증 슬픔 눈물 우울 불안 분노 짜증 무기 의욕 희망 흥미 식욕 변화 수면 변화 신체 아픔 생각 이상 개월 이상 지속 심리 장애 학업 인간관계 전반 부정 영향 심지어 생각 듭니 우울증 치료 말씀 우울증 확진 일단 우울증 심리 장애 심리검사 면담 여러 우울증 병원 진단 아내 부정 영향 걱정 우울증 치료 스스로 꼬리표 붙이 말씀 또한 오진 가능성 문의 우울증 갑상선 것일 가능성 조울증 가능성 정신과 염두 심리검사 다른 검사 면담 진일 가능성 우울증 마음 감기 심리 장애 또한 우울증 진단 삭제 우울증 경우 누군가 무어 해도 말씀 또한 우울증 때문 보험 보험 회사 문의 말씀 보험 회사 보험 우울증 문제 또한 아내 두통 우울증 진단 우울증 신체 정도 라면 성화 아내 정신과 우울증 꼬리 걱정 심리상담 우울증 심리상담 만성 라면 우울증 심리상담 우울증 심리상담 우울증 치료 아내 우울증 좌절 용기 내세 우울증 심리상담 저희 우울증 심리상담 전국 우울증 심리상담 요즘 우울증 사람 생각 우울증 정신병 그냥 마음 웰빙 생각 마음 심리 도움 생각 생각 아내 우울증 스스로 아내 심리상담 아내 심리상담 생각 심리상담 소의 심리상담 심리상담 능력 인지도 블로그 홈페이지 가장 마음 우울증 심리상담 아내 분도 우울증 어려움 극복 실수 질문 도움 도움 기억 질문 답변 심리 상담 직접 차이 문의 사항 아래 참고'"
            ],
            "application/vnd.google.colaboratory.intrinsic+json": {
              "type": "string"
            }
          },
          "metadata": {},
          "execution_count": 9
        }
      ]
    },
    {
      "cell_type": "code",
      "source": [
        "sentences_list_word[1][0:10]"
      ],
      "metadata": {
        "colab": {
          "base_uri": "https://localhost:8080/"
        },
        "id": "ddkwE_u89XX9",
        "outputId": "9a4a7a72-bde1-4d92-f228-4e9aa60ec241"
      },
      "execution_count": 10,
      "outputs": [
        {
          "output_type": "execute_result",
          "data": {
            "text/plain": [
              "['말씀', '아내', '우울증', '아내', '우울증', '우울증', '슬픔', '눈물', '우울', '불안']"
            ]
          },
          "metadata": {},
          "execution_count": 10
        }
      ]
    },
    {
      "cell_type": "markdown",
      "source": [
        "###2-1.CountVectorizer"
      ],
      "metadata": {
        "id": "i2dJ9BP59gjI"
      }
    },
    {
      "cell_type": "code",
      "source": [
        "from sklearn.feature_extraction.text import CountVectorizer\n",
        "\n",
        "cv = CountVectorizer(token_pattern=\"[\\w']{3,}\", max_features=2000, min_df=5, max_df=0.5)\n",
        "sentences_cv = cv.fit_transform(sentences_list)"
      ],
      "metadata": {
        "id": "oX-ZhKdzG59H"
      },
      "execution_count": 11,
      "outputs": []
    },
    {
      "cell_type": "markdown",
      "source": [
        "###2-2.TfidfVectorizer"
      ],
      "metadata": {
        "id": "I8QhzHL794-I"
      }
    },
    {
      "cell_type": "code",
      "source": [
        "from sklearn.feature_extraction.text import TfidfVectorizer\n",
        "\n",
        "cv = TfidfVectorizer(token_pattern=\"[\\w']{3,}\", max_features=2000, min_df=5, max_df=0.5)\n",
        "sentences_cv = cv.fit_transform(sentences_list)"
      ],
      "metadata": {
        "id": "JNa_ALBo9r4l"
      },
      "execution_count": null,
      "outputs": []
    },
    {
      "cell_type": "markdown",
      "source": [
        "#3.Topic Modeling of LDA\n",
        "\n",
        "- max_iter를 8로 설정하면 알고리즘은 최대 8번의 반복을 수행합니다. 각 반복은 다음과 같은 단계로 구성됩니다:\n",
        "\n",
        "- 초기화: 알고리즘은 토픽-단어 및 문서-토픽 분포를 초기화합니다. 이 초기화는 일반적으로 무작위로 이루어집니다.\n",
        "\n",
        "- E 단계 (Expectation): 문서에 할당된 토픽을 바탕으로 각 단어의 토픽에 대한 기여도를 추정합니다. 이 단계에서는 단어의 토픽 기여도를 계산하기 위해 토픽-단어 및 문서-토픽 분포를 사용합니다.\n",
        "\n",
        "- M 단계 (Maximization): E 단계에서 추정된 토픽 기여도를 바탕으로 토픽-단어 및 문서-토픽 분포를 업데이트합니다. 이 단계에서는 기여도를 최대화하는 방향으로 분포를 조정합니다.\n",
        "\n",
        "- 수렴 확인: 알고리즘은 E 단계와 M 단계를 번갈아가며 수행하면서 반복적으로 토픽 분포를 업데이트합니다. 이때, max_iter 횟수만큼 반복을 수행하거나 더 이상 토픽 분포가 크게 변하지 않을 때까지 반복합니다."
      ],
      "metadata": {
        "id": "9NbpuLxc6pcF"
      }
    },
    {
      "cell_type": "code",
      "source": [
        "from sklearn.decomposition import LatentDirichletAllocation\n",
        "import numpy as np\n",
        "\n",
        "lda = LatentDirichletAllocation(n_components = 10, #추출할 topic의 수\n",
        "                                max_iter=5,\n",
        "                                topic_word_prior=0.1,\n",
        "                                doc_topic_prior=1.0,\n",
        "                                learning_method='online',\n",
        "                                n_jobs= -1, #사용 processor 수\n",
        "                                random_state=0)\n",
        "\n",
        "sentence_topics = lda.fit_transform(sentences_cv)"
      ],
      "metadata": {
        "id": "noiypRLYKr7t"
      },
      "execution_count": 12,
      "outputs": []
    },
    {
      "cell_type": "code",
      "source": [
        "print('\\n#shape of Topics:', sentence_topics.shape)\n",
        "print('\\n#Sample of Topics:', sentence_topics[0])\n",
        "print('\\n#Sample of Topics:', sentence_topics[1])\n",
        "\n",
        "gross_topic_weights = np.mean(sentence_topics, axis=0)\n",
        "print('\\n#Sum of topic weights of documents:', gross_topic_weights)\n",
        "print('\\n#shape of topic word distribution:', lda.components_.shape)\n",
        "print('\\n#shape of topic word distribution:', len(lda.components_[0]))"
      ],
      "metadata": {
        "colab": {
          "base_uri": "https://localhost:8080/"
        },
        "id": "GY0bLbAa1j9U",
        "outputId": "5b59b2a3-2662-4685-eaa3-f0e068980212"
      },
      "execution_count": 13,
      "outputs": [
        {
          "output_type": "stream",
          "name": "stdout",
          "text": [
            "\n",
            "#shape of Topics: (1689, 10)\n",
            "\n",
            "#Sample of Topics: [0.08333375 0.08418745 0.15759226 0.09132714 0.08335724 0.08334052\n",
            " 0.08333381 0.08333377 0.08333407 0.16685999]\n",
            "\n",
            "#Sample of Topics: [0.01831918 0.01596038 0.03201075 0.04018068 0.02273654 0.03258127\n",
            " 0.01992118 0.01515499 0.0148666  0.78826844]\n",
            "\n",
            "#Sum of topic weights of documents: [0.09821408 0.08696488 0.08891185 0.10191983 0.09031381 0.10315966\n",
            " 0.0991304  0.12311231 0.08823359 0.12003958]\n",
            "\n",
            "#shape of topic word distribution: (10, 584)\n",
            "\n",
            "#shape of topic word distribution: 584\n"
          ]
        }
      ]
    },
    {
      "cell_type": "markdown",
      "source": [
        "### 결과해설\n",
        "- Topics의 (2,10)의 의미는 행은 각 문서 그대로, 열의 값들은 LDA가 추출한 토픽의 비중\n",
        "- 즉, LDA변환결과는 각 문서별로 토픽분포를 보여준다\n",
        "\n",
        "- Topics의 첫째행을 출력하면 첫 문서의 각 토픽에 대한 분포를 볼 수 있다\n",
        "- numpy로 열에 대해 총합을 구하면 문서 전체에 나타난 토픽의 평균 분포를 알 수 있다. 즉 말뭉치 전체에서는 3번째 토픽이 83.8%로 가장 많이 나타난다.\n",
        "\n",
        "- lda.components_의 shape을 출력해보면 (10,17)이 나오는데, 이는 각 토픽에 대해 카운트 벡터에서 사용한 단어 2,000개의 비중을 표현하기 때문이다."
      ],
      "metadata": {
        "id": "gCeQf-f2LLHs"
      }
    },
    {
      "cell_type": "code",
      "source": [
        "def print_top_words(model, feature_names, n_top_words):\n",
        "    for topic_idx, topic in enumerate(model.components_):\n",
        "        print(\"Topic #%d: \" % topic_idx, end='')\n",
        "        print(\", \".join([feature_names[i] for i in topic.argsort()[:-n_top_words - 1:-1]]))\n",
        "        # 위 slicing에서 맨 뒤 -1은 역순을 의미, 역순으로 했을 때 처음부터 n_top_words까지\n",
        "\n",
        "print_top_words(lda, cv.get_feature_names_out(), 20)"
      ],
      "metadata": {
        "colab": {
          "base_uri": "https://localhost:8080/"
        },
        "id": "vwjos3piMhs-",
        "outputId": "cd6dd292-9d1b-41a4-dc70-49340324ed5e"
      },
      "execution_count": 14,
      "outputs": [
        {
          "output_type": "stream",
          "name": "stdout",
          "text": [
            "Topic #0: 공황장애, 스스로, 불안장애, 스트레스, 세로토닌, 정신과, 대부분, 심리학, 제대로, 강박증, 마음대로, 절대로, 연구소, 두려움, 갑자기, 시스템, 뇌신경, 공포증, 불안감, 분노조절\n",
            "Topic #1: 스트레스, 따라서, 치료법, 알코올, 보험사, 한의원, 고혈압, 대부분, 비타민, 오히려, 보험금, 수면제, 편두통, 컴퓨터, 신경계, 스스로, 정신과, 진통제, 가능성, 불면증\n",
            "Topic #2: 우울증, 우울함, 바르게, 정신병, 자존감, 전문가, 반드시, 신경증, 스스로, 인지부조화, 대부분, 아버지, 일상생활, 어머니, 하나님, 죄책감, 기면증, 두려움, 갑자기, 무의식\n",
            "Topic #3: 부작용, 정신건강, 정신과, 정신질환, 저절로, 의학과, 병무청, 정신병원, 우울증, 마지막, 조현병, 심리검사, 따라서, 이야기, 정신의학, 보호자, 여러분, 처방전, 서비스, 억지로\n",
            "Topic #4: 우울증, 작성자, 스스로, 자율신경, 세로토닌, 얼마나, 정신과, 갈수록, 장기간, 불안감, 신경증, 소화기, 누군가, 화이팅, 무의식, 전문가, 토닥토닥, 에너지, 때로는, 이야기\n",
            "Topic #5: 부모님, 선생님, 이야기, 청소년, 정신과, 어려움, 우울증, 상담사, 최대한, 마인드, 트라우마, 가능성, 주치의, 인터넷, 유튜브, 자격증, 스스로, 마지막, 크리에이터, 사이버\n",
            "Topic #6: 심리치료, 우울증, 불안장애, 정신과, 불면증, 스트레스, 성공사례, 마음상태, 자신감, 심리상담, 항우울제, 부작용, 전문가, 신경안정제, 스스로, 인간관계, 사고방식, 어려움, 뇌신경, 공황장애\n",
            "Topic #7: 전문가, 신경증, 정신과, 전문의, 후유증, 위험성, 정신장애, 정신장애인, 노이로제, 정신분열증, 현대인, 정밀검사, 의약품, 얼마나, 이박사, 이규태, 네이버, 향정신성의약품, 정신건강, 불가능\n",
            "Topic #8: 어지럼증, 스트레스, 브레인, 자위행위, 어지러움, 대부분, 네이버, 성행위, 스스로, 우울증, 갑자기, 이성준, 무기력증, 무언가, 인터넷, 한의사, 판단력, 분비물, 불안장애, 증후군\n",
            "Topic #9: 우울증, 심리상담, 블로그, 스트레스, 조울증, 호르몬, 정신질환, 정신과, 치료법, 자가진단, 무의식, 놀이터, 테스트, 신경계, 그대로, 전문가, 가능성, 오히려, 스스로, 부작용\n"
          ]
        }
      ]
    },
    {
      "cell_type": "markdown",
      "source": [
        "- 가장 많이 언급된 단어들을 보기 위해서는 위와 같다."
      ],
      "metadata": {
        "id": "8jtrSIPLMtK1"
      }
    },
    {
      "cell_type": "markdown",
      "source": [
        "##4. Optimal Setting for Topic Modeling\n",
        "\n",
        "- 토픽모델링에서 가장 중요한 하이퍼 파라미터는 바로 토픽의 수\n",
        "- 이를 위해 다양한 혼란도와 토픽 응집도를 계산하는 방법 존재\n",
        "- 사이킷런은 혼란도만 공식적으로 제공 / 혼란도는 작을수록 좋다"
      ],
      "metadata": {
        "id": "X4tglP3bNABi"
      }
    },
    {
      "cell_type": "code",
      "source": [
        "import matplotlib.pyplot as plt\n",
        "\n",
        "def show_perplexity(cv, start=10, end=30, max_iter=5, topic_word_prior= 0.1, doc_topic_prior=1.0):\n",
        "    iter_num = []\n",
        "    per_value = []\n",
        "\n",
        "    for i in range(start, end + 1):\n",
        "        lda = LatentDirichletAllocation(n_components = i,\n",
        "                                        max_iter=max_iter,\n",
        "                                        topic_word_prior= topic_word_prior,\n",
        "                                        doc_topic_prior=doc_topic_prior,\n",
        "                                        learning_method='batch',\n",
        "                                        n_jobs= -1,\n",
        "                                        random_state=7)\n",
        "        lda.fit(cv)\n",
        "        iter_num.append(i)\n",
        "        pv = lda.perplexity(cv)\n",
        "        per_value.append(pv)\n",
        "        print(f'n_components: {i}, perplexity: {pv:0.3f}')\n",
        "\n",
        "    plt.plot(iter_num, per_value, 'g-')\n",
        "    plt.show()\n",
        "    return start + per_value.index(min(per_value))\n",
        "\n",
        "print(\"n_components with minimum perplexity:\",\n",
        "      show_perplexity(sentence_topics, start=5, end=15))"
      ],
      "metadata": {
        "colab": {
          "base_uri": "https://localhost:8080/",
          "height": 649
        },
        "id": "YUPaQ7q0NXdh",
        "outputId": "47d93a50-303f-40ba-f5a4-0a21c3a22fb8"
      },
      "execution_count": 15,
      "outputs": [
        {
          "output_type": "stream",
          "name": "stdout",
          "text": [
            "n_components: 5, perplexity: 16.677\n",
            "n_components: 6, perplexity: 17.337\n",
            "n_components: 7, perplexity: 17.906\n",
            "n_components: 8, perplexity: 18.409\n",
            "n_components: 9, perplexity: 18.867\n",
            "n_components: 10, perplexity: 19.294\n",
            "n_components: 11, perplexity: 19.695\n",
            "n_components: 12, perplexity: 20.078\n",
            "n_components: 13, perplexity: 20.447\n",
            "n_components: 14, perplexity: 20.805\n",
            "n_components: 15, perplexity: 21.153\n"
          ]
        },
        {
          "output_type": "display_data",
          "data": {
            "text/plain": [
              "<Figure size 640x480 with 1 Axes>"
            ],
            "image/png": "[encoded data removed]"
          },
          "metadata": {}
        },
        {
          "output_type": "stream",
          "name": "stdout",
          "text": [
            "n_components with minimum perplexity: 5\n"
          ]
        }
      ]
    },
    {
      "cell_type": "markdown",
      "source": [
        "- 상기 나온 최저점의 혼잡도를 선정한다.\n",
        "- 하지만 상기 그래프를 확인하면, 동일한 주제의 크롤링 데이타인 관계로 적정선의 혼잡도를 잡기 어려운 상황 - 5로 셋팅한다."
      ],
      "metadata": {
        "id": "hxXgkYrRzTy9"
      }
    },
    {
      "cell_type": "code",
      "source": [
        "lda = LatentDirichletAllocation(n_components = 5,\n",
        "                                max_iter=20,\n",
        "                                topic_word_prior= 0.1,\n",
        "                                doc_topic_prior=1.0,\n",
        "                                learning_method='batch',\n",
        "                                n_jobs= -1,\n",
        "                                random_state=7)\n",
        "\n",
        "review_topics = lda.fit_transform(sentence_topics)\n",
        "print_top_words(lda, cv.get_feature_names_out(), 10)"
      ],
      "metadata": {
        "colab": {
          "base_uri": "https://localhost:8080/"
        },
        "id": "BuoVAhmaNk5A",
        "outputId": "d79e291d-2f85-4cf7-881d-74da3daec959"
      },
      "execution_count": 16,
      "outputs": [
        {
          "output_type": "stream",
          "name": "stdout",
          "text": [
            "Topic #0: 가쁘거, 가위눌림, 가정의학, 가까이, 가족사, 가운데, 간호사, 가르침, 가능성, 가정폭력\n",
            "Topic #1: 간호사, 가까이, 가르침, 가정폭력, 가운데, 가위눌림, 가쁘거, 가능성, 가족사, 가정의학\n",
            "Topic #2: 가정의학, 가정폭력, 간호사, 가위눌림, 가까이, 가쁘거, 가운데, 가능성, 가르침, 가족사\n",
            "Topic #3: 간호사, 가능성, 가족사, 가르침, 가정의학, 가위눌림, 가쁘거, 가운데, 가까이, 가정폭력\n",
            "Topic #4: 가정폭력, 가족사, 가르침, 간호사, 가능성, 가쁘거, 가운데, 가위눌림, 가정의학, 가까이\n"
          ]
        }
      ]
    },
    {
      "cell_type": "markdown",
      "source": [
        "# 5.Topic Modeling of Gensim"
      ],
      "metadata": {
        "id": "3iGcdt4LOb1D"
      }
    },
    {
      "cell_type": "markdown",
      "source": [
        "-Gensim은 Word2Vec으로 잘 알려져 있으며, 토픽 모델링을 비롯해 의미적인 자연어 처리를 위한 다양한 라이브러리를 제공한다."
      ],
      "metadata": {
        "id": "3dVZDvoVOguT"
      }
    },
    {
      "cell_type": "markdown",
      "source": [
        "### 순서확인기\n",
        "\n",
        "- Gensim은 먼저 토큰화 결과로부터 토큰과 gendim모듈이 내부적으로 사용하는 id를 매칭하는 사전을 생성 -> Dictionary 클래스 사용\n",
        "- filter_extremes() 메소드에서, 사이킷런의 max_features에 해당하는 keep_n인수, min_df에 해당하는 no_below, max_df에 해당하는 no_above인수를 이용해 특성을 선택\n",
        "- doc2bow()메소드로 토큰화된 결과를 카운트 벡터, 즉 BOW형태로 변환"
      ],
      "metadata": {
        "id": "Vcz8aL4IPJIf"
      }
    },
    {
      "cell_type": "markdown",
      "source": [
        "- Gensim에서 LDA 모델을 수행하는 클래스인 LdaModel 시행\n",
        "- num_topics : 토픽의 수\n",
        "- id2word : Dictionary를 의미\n",
        "- passes : 사이킷런의 max_iter와 같다고 보면 됨, 학습하는 횟수를 지정한다.\n"
      ],
      "metadata": {
        "id": "QV1X1qP9QrO9"
      }
    },
    {
      "cell_type": "code",
      "source": [
        "from gensim.corpora.dictionary import Dictionary\n",
        "\n",
        "# 토큰화 결과로부터 dictionay 생성\n",
        "dictionary = Dictionary(sentences_list_word)\n",
        "print('#Number of initial unique words in documents:', len(dictionary))\n",
        "\n",
        "# 문서 빈도수가 너무 적거나 높은 단어를 필터링하고 특성을 단어의 빈도 순으로 선택\n",
        "dictionary.filter_extremes(keep_n=2000, no_below=5, no_above=0.5)\n",
        "print('#Number of unique words after removing rare and common words:', len(dictionary))\n",
        "\n",
        "# 카운트 벡터로 변환\n",
        "corpus = [dictionary.doc2bow(text) for text in sentences_list_word]\n",
        "print('#Number of unique tokens: %d' % len(dictionary))\n",
        "print('#Number of documents: %d' % len(corpus))"
      ],
      "metadata": {
        "id": "VuAy-J9c5-LF",
        "outputId": "66d2fb7b-99f4-4bea-b959-b38a0d2088ba",
        "colab": {
          "base_uri": "https://localhost:8080/"
        }
      },
      "execution_count": 17,
      "outputs": [
        {
          "output_type": "stream",
          "name": "stdout",
          "text": [
            "#Number of initial unique words in documents: 8283\n",
            "#Number of unique words after removing rare and common words: 2000\n",
            "#Number of unique tokens: 2000\n",
            "#Number of documents: 1689\n"
          ]
        }
      ]
    },
    {
      "cell_type": "markdown",
      "source": [
        "- Gensim에서 LDA 모델을 수행하는 클래스인 LdaModel 시행\n",
        "- num_topics : 토픽의 수\n",
        "- id2word : Dictionary를 의미\n",
        "- passes : 사이킷런의 max_iter와 같다고 보면 됨, 학습하는 횟수를 지정한다."
      ],
      "metadata": {
        "id": "X7MlaijW6XLu"
      }
    },
    {
      "cell_type": "code",
      "source": [
        "from gensim.models import LdaModel\n",
        "\n",
        "num_topics = 10\n",
        "passes = 5\n",
        "%time model = LdaModel(corpus=corpus,id2word=dictionary,passes=passes,num_topics=num_topics,random_state=7)"
      ],
      "metadata": {
        "colab": {
          "base_uri": "https://localhost:8080/"
        },
        "id": "rvkPudT9RSjT",
        "outputId": "2e7482d2-e8f8-4c47-aa4d-3596044e6476"
      },
      "execution_count": 18,
      "outputs": [
        {
          "output_type": "stream",
          "name": "stderr",
          "text": [
            "WARNING:gensim.models.ldamodel:too few updates, training might not converge; consider increasing the number of passes or iterations to improve accuracy\n"
          ]
        },
        {
          "output_type": "stream",
          "name": "stdout",
          "text": [
            "CPU times: user 8.57 s, sys: 125 ms, total: 8.7 s\n",
            "Wall time: 8.74 s\n"
          ]
        }
      ]
    },
    {
      "cell_type": "code",
      "source": [
        "model.print_topics(num_words=10)"
      ],
      "metadata": {
        "colab": {
          "base_uri": "https://localhost:8080/"
        },
        "id": "PzZb1w7ARaXH",
        "outputId": "f4e2bf10-bb08-461d-8c2c-12c2963eb649"
      },
      "execution_count": 19,
      "outputs": [
        {
          "output_type": "execute_result",
          "data": {
            "text/plain": [
              "[(0,\n",
              "  '0.081*\"치료\" + 0.070*\"증상\" + 0.050*\"완치\" + 0.043*\"정신\" + 0.028*\"적극\" + 0.025*\"상태\" + 0.020*\"신경증\" + 0.018*\"사실\" + 0.016*\"정신과\" + 0.014*\"정신분열증\"'),\n",
              " (1,\n",
              "  '0.028*\"질문\" + 0.017*\"생각\" + 0.017*\"사람\" + 0.016*\"보험\" + 0.014*\"우울증\" + 0.014*\"지금\" + 0.010*\"가입\" + 0.009*\"친구\" + 0.009*\"상담\" + 0.008*\"치료\"'),\n",
              " (2,\n",
              "  '0.042*\"심리치료\" + 0.040*\"약물\" + 0.040*\"원인\" + 0.039*\"마음\" + 0.037*\"치료\" + 0.032*\"문제\" + 0.030*\"우울증\" + 0.025*\"우울\" + 0.022*\"증상\" + 0.021*\"심리\"'),\n",
              " (3,\n",
              "  '0.032*\"두통\" + 0.018*\"경우\" + 0.017*\"혈액\" + 0.017*\"증상\" + 0.016*\"순환\" + 0.015*\"사람\" + 0.013*\"운동\" + 0.012*\"통증\" + 0.010*\"효과\" + 0.010*\"머리\"'),\n",
              " (4,\n",
              "  '0.074*\"증상\" + 0.069*\"치료\" + 0.035*\"정신\" + 0.034*\"심리\" + 0.033*\"완치\" + 0.028*\"신경증\" + 0.026*\"복용\" + 0.026*\"전문가\" + 0.024*\"적극\" + 0.021*\"검사\"'),\n",
              " (5,\n",
              "  '0.036*\"치료\" + 0.034*\"상담\" + 0.026*\"우울증\" + 0.020*\"약물\" + 0.017*\"심리상담\" + 0.013*\"증상\" + 0.012*\"센터\" + 0.011*\"마음\" + 0.011*\"심리치료\" + 0.011*\"도움\"'),\n",
              " (6,\n",
              "  '0.032*\"마음\" + 0.023*\"우울증\" + 0.022*\"생각\" + 0.017*\"자신\" + 0.015*\"증상\" + 0.015*\"치료\" + 0.013*\"사람\" + 0.010*\"인지\" + 0.009*\"불안\" + 0.008*\"질문\"'),\n",
              " (7,\n",
              "  '0.035*\"증상\" + 0.032*\"머리\" + 0.026*\"경우\" + 0.019*\"상태\" + 0.015*\"치료\" + 0.015*\"원인\" + 0.014*\"발생\" + 0.013*\"느낌\" + 0.013*\"집중\" + 0.012*\"장애\"'),\n",
              " (8,\n",
              "  '0.066*\"마음\" + 0.047*\"자신\" + 0.023*\"생각\" + 0.022*\"상처\" + 0.019*\"사람\" + 0.018*\"우울함\" + 0.017*\"우울증\" + 0.014*\"문제\" + 0.013*\"치유\" + 0.011*\"때문\"'),\n",
              " (9,\n",
              "  '0.022*\"치료\" + 0.020*\"증상\" + 0.018*\"병원\" + 0.015*\"경우\" + 0.014*\"공황장애\" + 0.012*\"진단\" + 0.011*\"환자\" + 0.010*\"의사\" + 0.009*\"우울증\" + 0.009*\"때문\"')]"
            ]
          },
          "metadata": {},
          "execution_count": 19
        }
      ]
    },
    {
      "cell_type": "markdown",
      "source": [
        "- 숫자는 각 토픽으로 분류될 때 단어들의 기여도"
      ],
      "metadata": {
        "id": "jiTf98iu7rTb"
      }
    },
    {
      "cell_type": "markdown",
      "source": [
        "- get_document_topics 메소드를 이용하면 인수로 넘긴 무너들에 대해 토픽 분포를 반환한다. 즉 인수로 corpus - BOW로 변환된 카운트 벡터를 요구하며, minimum_probability로 보여질 토픽의 비중에 대한 임계값을 설정할 수 있다."
      ],
      "metadata": {
        "id": "cBvrhX-LRmIQ"
      }
    },
    {
      "cell_type": "code",
      "source": [
        "print(\"topic distribution of the first document: \", model.get_document_topics(corpus)[0])"
      ],
      "metadata": {
        "colab": {
          "base_uri": "https://localhost:8080/"
        },
        "id": "uTdFKIfVRhNT",
        "outputId": "b7f187d5-18eb-4ff6-fe45-599c03c0fa70"
      },
      "execution_count": 20,
      "outputs": [
        {
          "output_type": "stream",
          "name": "stdout",
          "text": [
            "#topic distribution of the first document:  [(0, 0.0100023225), (1, 0.010004489), (2, 0.01000297), (3, 0.010003405), (4, 0.010002463), (5, 0.30072388), (6, 0.61924183), (7, 0.010006203), (8, 0.010006986), (9, 0.010005418)]\n"
          ]
        }
      ]
    },
    {
      "cell_type": "code",
      "source": [
        "# !pip install pyLDAvis\n",
        "# !pip install --upgrade gensim\n",
        "!pip install pandas"
      ],
      "metadata": {
        "colab": {
          "base_uri": "https://localhost:8080/"
        },
        "id": "YsqN7zvXpA2F",
        "outputId": "8eab444a-de21-4ecf-8cd1-9805490e0b05"
      },
      "execution_count": 1,
      "outputs": [
        {
          "output_type": "stream",
          "name": "stdout",
          "text": [
            "Requirement already satisfied: pandas in /usr/local/lib/python3.10/dist-packages (2.1.3)\n",
            "Requirement already satisfied: numpy<2,>=1.22.4 in /usr/local/lib/python3.10/dist-packages (from pandas) (1.26.2)\n",
            "Requirement already satisfied: python-dateutil>=2.8.2 in /usr/local/lib/python3.10/dist-packages (from pandas) (2.8.2)\n",
            "Requirement already satisfied: pytz>=2020.1 in /usr/local/lib/python3.10/dist-packages (from pandas) (2023.3.post1)\n",
            "Requirement already satisfied: tzdata>=2022.1 in /usr/local/lib/python3.10/dist-packages (from pandas) (2023.3)\n",
            "Requirement already satisfied: six>=1.5 in /usr/local/lib/python3.10/dist-packages (from python-dateutil>=2.8.2->pandas) (1.16.0)\n"
          ]
        }
      ]
    },
    {
      "cell_type": "markdown",
      "source": [],
      "metadata": {
        "id": "PkqWIqRP8N0g"
      }
    },
    {
      "cell_type": "code",
      "source": [
        "import pyLDAvis\n",
        "import pyLDAvis.gensim_models as gensimvis\n",
        "pyLDAvis.enable_notebook()\n",
        "\n",
        "# feed the LDA model into the pyLDAvis instance\n",
        "lda_viz = gensimvis.prepare(model, corpus, dictionary)\n",
        "lda_viz"
      ],
      "metadata": {
        "colab": {
          "base_uri": "https://localhost:8080/",
          "height": 238
        },
        "id": "2oJ4y1hiSJet",
        "outputId": "560a247e-3af2-46bf-beaf-6decfe1b1740"
      },
      "execution_count": 2,
      "outputs": [
        {
          "output_type": "error",
          "ename": "NameError",
          "evalue": "ignored",
          "traceback": [
            "\u001b[0;31m---------------------------------------------------------------------------\u001b[0m",
            "\u001b[0;31mNameError\u001b[0m                                 Traceback (most recent call last)",
            "\u001b[0;32m<ipython-input-2-875196c8d41f>\u001b[0m in \u001b[0;36m<cell line: 6>\u001b[0;34m()\u001b[0m\n\u001b[1;32m      4\u001b[0m \u001b[0;34m\u001b[0m\u001b[0m\n\u001b[1;32m      5\u001b[0m \u001b[0;31m# feed the LDA model into the pyLDAvis instance\u001b[0m\u001b[0;34m\u001b[0m\u001b[0;34m\u001b[0m\u001b[0m\n\u001b[0;32m----> 6\u001b[0;31m \u001b[0mlda_viz\u001b[0m \u001b[0;34m=\u001b[0m \u001b[0mgensimvis\u001b[0m\u001b[0;34m.\u001b[0m\u001b[0mprepare\u001b[0m\u001b[0;34m(\u001b[0m\u001b[0mmodel\u001b[0m\u001b[0;34m,\u001b[0m \u001b[0mcorpus\u001b[0m\u001b[0;34m,\u001b[0m \u001b[0mdictionary\u001b[0m\u001b[0;34m)\u001b[0m\u001b[0;34m\u001b[0m\u001b[0;34m\u001b[0m\u001b[0m\n\u001b[0m\u001b[1;32m      7\u001b[0m \u001b[0mlda_viz\u001b[0m\u001b[0;34m\u001b[0m\u001b[0;34m\u001b[0m\u001b[0m\n",
            "\u001b[0;31mNameError\u001b[0m: name 'model' is not defined"
          ]
        }
      ]
    },
    {
      "cell_type": "markdown",
      "source": [
        "- 응집도를 구하는 방법"
      ],
      "metadata": {
        "id": "RKTee_py47fK"
      }
    },
    {
      "cell_type": "code",
      "source": [
        "from gensim.models import CoherenceModel\n",
        "\n",
        "cm = CoherenceModel(model=model, corpus=corpus, coherence='u_mass')\n",
        "coherence = cm.get_coherence()\n",
        "print(coherence)"
      ],
      "metadata": {
        "colab": {
          "base_uri": "https://localhost:8080/"
        },
        "id": "5Zg45y54Sz46",
        "outputId": "67d7bfee-6798-4cce-c301-50639f82df17"
      },
      "execution_count": 25,
      "outputs": [
        {
          "output_type": "stream",
          "name": "stderr",
          "text": [
            "/usr/local/lib/python3.10/dist-packages/ipykernel/ipkernel.py:283: DeprecationWarning: `should_run_async` will not call `transform_cell` automatically in the future. Please pass the result to `transformed_cell` argument and any exception that happen during thetransform in `preprocessing_exc_tuple` in IPython 7.17 and above.\n",
            "  and should_run_async(code)\n"
          ]
        },
        {
          "output_type": "stream",
          "name": "stdout",
          "text": [
            "-1.0671188358391395\n"
          ]
        }
      ]
    },
    {
      "cell_type": "code",
      "source": [
        "def show_coherence(corpus, dictionary, start=6, end=15):\n",
        "    iter_num = []\n",
        "    per_value = []\n",
        "    coh_value = []\n",
        "\n",
        "    for i in range(start, end + 1):\n",
        "        model = LdaModel(\n",
        "            corpus=corpus,\n",
        "            id2word=dictionary,\n",
        "            chunksize=1000,\n",
        "            num_topics=i,\n",
        "            random_state=7)\n",
        "        iter_num.append(i)\n",
        "        pv = model.log_perplexity(corpus)\n",
        "        per_value.append(pv)\n",
        "\n",
        "        cm = CoherenceModel(\n",
        "            model=model,\n",
        "            corpus=corpus,\n",
        "            coherence='u_mass')\n",
        "        cv = cm.get_coherence()\n",
        "        coh_value.append(cv)\n",
        "        print(f'num_topics: {i}, perplexity: {pv:0.3f}, coherence: {cv:0.3f}')\n",
        "\n",
        "    plt.plot(iter_num, per_value, 'g-')\n",
        "    plt.xlabel(\"num_topics\")\n",
        "    plt.ylabel(\"perplexity\")\n",
        "    plt.show()\n",
        "\n",
        "    plt.plot(iter_num, coh_value, 'r--')\n",
        "    plt.xlabel(\"num_topics\")\n",
        "    plt.ylabel(\"coherence\")\n",
        "    plt.show()\n",
        "\n",
        "show_coherence(corpus, dictionary, start=6, end=15)"
      ],
      "metadata": {
        "colab": {
          "base_uri": "https://localhost:8080/",
          "height": 1000
        },
        "id": "S_AF4WNhS1mP",
        "outputId": "48159271-9aaa-4a88-f543-3c8b91413381"
      },
      "execution_count": 26,
      "outputs": [
        {
          "output_type": "stream",
          "name": "stderr",
          "text": [
            "/usr/local/lib/python3.10/dist-packages/ipykernel/ipkernel.py:283: DeprecationWarning: `should_run_async` will not call `transform_cell` automatically in the future. Please pass the result to `transformed_cell` argument and any exception that happen during thetransform in `preprocessing_exc_tuple` in IPython 7.17 and above.\n",
            "  and should_run_async(code)\n",
            "WARNING:gensim.models.ldamodel:too few updates, training might not converge; consider increasing the number of passes or iterations to improve accuracy\n",
            "WARNING:gensim.models.ldamodel:too few updates, training might not converge; consider increasing the number of passes or iterations to improve accuracy\n"
          ]
        },
        {
          "output_type": "stream",
          "name": "stdout",
          "text": [
            "num_topics: 6, perplexity: -6.378, coherence: -0.984\n"
          ]
        },
        {
          "output_type": "stream",
          "name": "stderr",
          "text": [
            "WARNING:gensim.models.ldamodel:too few updates, training might not converge; consider increasing the number of passes or iterations to improve accuracy\n"
          ]
        },
        {
          "output_type": "stream",
          "name": "stdout",
          "text": [
            "num_topics: 7, perplexity: -6.375, coherence: -1.147\n"
          ]
        },
        {
          "output_type": "stream",
          "name": "stderr",
          "text": [
            "WARNING:gensim.models.ldamodel:too few updates, training might not converge; consider increasing the number of passes or iterations to improve accuracy\n"
          ]
        },
        {
          "output_type": "stream",
          "name": "stdout",
          "text": [
            "num_topics: 8, perplexity: -6.371, coherence: -0.997\n"
          ]
        },
        {
          "output_type": "stream",
          "name": "stderr",
          "text": [
            "WARNING:gensim.models.ldamodel:too few updates, training might not converge; consider increasing the number of passes or iterations to improve accuracy\n"
          ]
        },
        {
          "output_type": "stream",
          "name": "stdout",
          "text": [
            "num_topics: 9, perplexity: -6.359, coherence: -1.077\n"
          ]
        },
        {
          "output_type": "stream",
          "name": "stderr",
          "text": [
            "WARNING:gensim.models.ldamodel:too few updates, training might not converge; consider increasing the number of passes or iterations to improve accuracy\n"
          ]
        },
        {
          "output_type": "stream",
          "name": "stdout",
          "text": [
            "num_topics: 10, perplexity: -6.391, coherence: -1.137\n"
          ]
        },
        {
          "output_type": "stream",
          "name": "stderr",
          "text": [
            "WARNING:gensim.models.ldamodel:too few updates, training might not converge; consider increasing the number of passes or iterations to improve accuracy\n"
          ]
        },
        {
          "output_type": "stream",
          "name": "stdout",
          "text": [
            "num_topics: 11, perplexity: -6.332, coherence: -1.032\n"
          ]
        },
        {
          "output_type": "stream",
          "name": "stderr",
          "text": [
            "WARNING:gensim.models.ldamodel:too few updates, training might not converge; consider increasing the number of passes or iterations to improve accuracy\n"
          ]
        },
        {
          "output_type": "stream",
          "name": "stdout",
          "text": [
            "num_topics: 12, perplexity: -6.342, coherence: -1.343\n"
          ]
        },
        {
          "output_type": "stream",
          "name": "stderr",
          "text": [
            "WARNING:gensim.models.ldamodel:too few updates, training might not converge; consider increasing the number of passes or iterations to improve accuracy\n"
          ]
        },
        {
          "output_type": "stream",
          "name": "stdout",
          "text": [
            "num_topics: 13, perplexity: -6.367, coherence: -1.160\n"
          ]
        },
        {
          "output_type": "stream",
          "name": "stderr",
          "text": [
            "WARNING:gensim.models.ldamodel:too few updates, training might not converge; consider increasing the number of passes or iterations to improve accuracy\n"
          ]
        },
        {
          "output_type": "stream",
          "name": "stdout",
          "text": [
            "num_topics: 14, perplexity: -6.375, coherence: -1.120\n",
            "num_topics: 15, perplexity: -6.357, coherence: -1.192\n"
          ]
        },
        {
          "output_type": "display_data",
          "data": {
            "text/plain": [
              "<Figure size 640x480 with 1 Axes>"
            ],
            "image/png": "[encoded data removed]"
          },
          "metadata": {}
        },
        {
          "output_type": "display_data",
          "data": {
            "text/plain": [
              "<Figure size 640x480 with 1 Axes>"
            ],
            "image/png": "[encoded data removed]"
          },
          "metadata": {}
        }
      ]
    },
    {
      "cell_type": "markdown",
      "source": [
        "##6.Extract Topic Result"
      ],
      "metadata": {
        "id": "jK13deacDc32"
      }
    },
    {
      "cell_type": "code",
      "source": [
        "topic_distributions = [model.get_document_topics(doc) for doc in corpus]\n",
        "\n",
        "# 각 문장에 대한 토픽 번호 얻기\n",
        "topic_numbers = [max(topic, key=lambda x: x[1])[0] for topic in topic_distributions]\n",
        "\n",
        "# 결과 출력\n",
        "for sentence, topic_number in zip(sentences_list, topic_numbers):\n",
        "    print(f\"Topic Number: {topic_number} Sentence: {sentence}\")"
      ],
      "metadata": {
        "id": "sA8x8MeVCpor"
      },
      "execution_count": null,
      "outputs": []
    },
    {
      "cell_type": "code",
      "source": [
        "df_result = pd.DataFrame({\"Sentence\": sentences_list, \"Topic Number\": topic_numbers})\n",
        "excel_file_path = \"topic_results.xlsx\"\n",
        "df_result.to_excel(excel_file_path, index=False)"
      ],
      "metadata": {
        "colab": {
          "base_uri": "https://localhost:8080/"
        },
        "id": "p5zJKPK4DKkJ",
        "outputId": "fbf6e493-69dd-49af-98dc-e81054aea812"
      },
      "execution_count": 28,
      "outputs": [
        {
          "output_type": "stream",
          "name": "stderr",
          "text": [
            "/usr/local/lib/python3.10/dist-packages/ipykernel/ipkernel.py:283: DeprecationWarning: `should_run_async` will not call `transform_cell` automatically in the future. Please pass the result to `transformed_cell` argument and any exception that happen during thetransform in `preprocessing_exc_tuple` in IPython 7.17 and above.\n",
            "  and should_run_async(code)\n"
          ]
        }
      ]
    },
    {
      "cell_type": "code",
      "source": [
        "len(sentences_list)"
      ],
      "metadata": {
        "colab": {
          "base_uri": "https://localhost:8080/"
        },
        "id": "2fjv4-yYor9L",
        "outputId": "4b288b30-fca1-4622-87b8-a2d75606c1a3"
      },
      "execution_count": 30,
      "outputs": [
        {
          "output_type": "stream",
          "name": "stderr",
          "text": [
            "/usr/local/lib/python3.10/dist-packages/ipykernel/ipkernel.py:283: DeprecationWarning: `should_run_async` will not call `transform_cell` automatically in the future. Please pass the result to `transformed_cell` argument and any exception that happen during thetransform in `preprocessing_exc_tuple` in IPython 7.17 and above.\n",
            "  and should_run_async(code)\n"
          ]
        },
        {
          "output_type": "execute_result",
          "data": {
            "text/plain": [
              "1689"
            ]
          },
          "metadata": {},
          "execution_count": 30
        }
      ]
    }
  ]
}